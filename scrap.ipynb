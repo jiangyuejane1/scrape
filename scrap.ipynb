{
 "cells": [
  {
   "cell_type": "code",
   "execution_count": 89,
   "id": "e290184c",
   "metadata": {},
   "outputs": [],
   "source": [
    "import requests\n"
   ]
  },
  {
   "cell_type": "code",
   "execution_count": 90,
   "id": "fee2c07d",
   "metadata": {},
   "outputs": [],
   "source": [
    "from bs4 import BeautifulSoup"
   ]
  },
  {
   "cell_type": "code",
   "execution_count": 91,
   "id": "123e487b",
   "metadata": {},
   "outputs": [],
   "source": [
    "def scrape_lyrics(url):\n",
    "    response = requests.get(url)\n",
    "    html_string = response.text\n",
    "    document = BeautifulSoup(html_string, \"html.parser\")\n",
    "    lyrics = document.find(\"div\", attrs={\"class\": \"col-xs-12 col-lg-8 text-center\"}).text.replace('\\n','')\n",
    "    lyrics = lyrics.split('\\r')\n",
    "    return lyrics[1].split('Submit')[0]"
   ]
  },
  {
   "cell_type": "code",
   "execution_count": 92,
   "id": "334a9740",
   "metadata": {},
   "outputs": [],
   "source": [
    "def scrape_artist(url):\n",
    "    response = requests.get(url)\n",
    "    html_string = response.text\n",
    "    document = BeautifulSoup(html_string, \"html.parser\")\n",
    "    artist = document.find(\"div\", attrs={\"class\": \"lyricsh\"}).text.replace('\\n','')\n",
    "    return artist[:-7]\n"
   ]
  },
  {
   "cell_type": "code",
   "execution_count": 93,
   "id": "006a34c0",
   "metadata": {},
   "outputs": [],
   "source": [
    "def scrape_title(url):\n",
    "    response = requests.get(url)\n",
    "    html_string = response.text\n",
    "    document = BeautifulSoup(html_string, \"html.parser\")\n",
    "    title = document.find(\"h1\").text\n",
    "    title = title.split('\"')\n",
    "    return title[-2]"
   ]
  },
  {
   "cell_type": "code",
   "execution_count": 94,
   "id": "340c4774",
   "metadata": {},
   "outputs": [],
   "source": [
    "scrape_url = [\"https://www.azlyrics.com/lyrics/taylorswift/timmcgraw.html\",\n",
    "              \"https://www.azlyrics.com/lyrics/taylorswift/picturetoburn.html\",\n",
    "              \"https://www.azlyrics.com/lyrics/taylorswift/teardropsonmyguitar.html\"]"
   ]
  },
  {
   "cell_type": "code",
   "execution_count": 95,
   "id": "38b2e81e",
   "metadata": {},
   "outputs": [],
   "source": [
    "import pandas as pd"
   ]
  },
  {
   "cell_type": "code",
   "execution_count": 96,
   "id": "2263955d",
   "metadata": {},
   "outputs": [],
   "source": [
    "dic_scrape = {}\n",
    "artist = []\n",
    "title = []\n",
    "lyrics = []\n",
    "for url in scrape_url:\n",
    "    artist.append(scrape_artist(url))\n",
    "    title.append(scrape_title(url))\n",
    "    lyrics.append(scrape_lyrics(url))"
   ]
  },
  {
   "cell_type": "code",
   "execution_count": 97,
   "id": "bbc234b6",
   "metadata": {},
   "outputs": [],
   "source": [
    "dic_scrape['artist'] = artist\n",
    "dic_scrape['title'] = title\n",
    "dic_scrape['lyrics'] = lyrics"
   ]
  },
  {
   "cell_type": "code",
   "execution_count": 98,
   "id": "ff6904e2",
   "metadata": {},
   "outputs": [
    {
     "data": {
      "text/html": [
       "<div>\n",
       "<style scoped>\n",
       "    .dataframe tbody tr th:only-of-type {\n",
       "        vertical-align: middle;\n",
       "    }\n",
       "\n",
       "    .dataframe tbody tr th {\n",
       "        vertical-align: top;\n",
       "    }\n",
       "\n",
       "    .dataframe thead th {\n",
       "        text-align: right;\n",
       "    }\n",
       "</style>\n",
       "<table border=\"1\" class=\"dataframe\">\n",
       "  <thead>\n",
       "    <tr style=\"text-align: right;\">\n",
       "      <th></th>\n",
       "      <th>artist</th>\n",
       "      <th>title</th>\n",
       "      <th>lyrics</th>\n",
       "    </tr>\n",
       "  </thead>\n",
       "  <tbody>\n",
       "    <tr>\n",
       "      <th>0</th>\n",
       "      <td>Taylor Swift</td>\n",
       "      <td>Tim McGraw</td>\n",
       "      <td>He said the way my blue eyes shinedPut those G...</td>\n",
       "    </tr>\n",
       "    <tr>\n",
       "      <th>1</th>\n",
       "      <td>Taylor Swift</td>\n",
       "      <td>Picture To Burn</td>\n",
       "      <td>State the obvious, I didn't get my perfect fan...</td>\n",
       "    </tr>\n",
       "    <tr>\n",
       "      <th>2</th>\n",
       "      <td>Taylor Swift</td>\n",
       "      <td>Teardrops On My Guitar</td>\n",
       "      <td>Drew looks at meI fake a smile so he won't see...</td>\n",
       "    </tr>\n",
       "  </tbody>\n",
       "</table>\n",
       "</div>"
      ],
      "text/plain": [
       "         artist                   title  \\\n",
       "0  Taylor Swift              Tim McGraw   \n",
       "1  Taylor Swift         Picture To Burn   \n",
       "2  Taylor Swift  Teardrops On My Guitar   \n",
       "\n",
       "                                              lyrics  \n",
       "0  He said the way my blue eyes shinedPut those G...  \n",
       "1  State the obvious, I didn't get my perfect fan...  \n",
       "2  Drew looks at meI fake a smile so he won't see...  "
      ]
     },
     "execution_count": 98,
     "metadata": {},
     "output_type": "execute_result"
    }
   ],
   "source": [
    "pd.DataFrame(dic_scrape)"
   ]
  }
 ],
 "metadata": {
  "kernelspec": {
   "display_name": "Python 3 (ipykernel)",
   "language": "python",
   "name": "python3"
  },
  "language_info": {
   "codemirror_mode": {
    "name": "ipython",
    "version": 3
   },
   "file_extension": ".py",
   "mimetype": "text/x-python",
   "name": "python",
   "nbconvert_exporter": "python",
   "pygments_lexer": "ipython3",
   "version": "3.9.12"
  }
 },
 "nbformat": 4,
 "nbformat_minor": 5
}
